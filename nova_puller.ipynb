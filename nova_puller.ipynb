{
 "cells": [
  {
   "attachments": {},
   "cell_type": "markdown",
   "metadata": {},
   "source": [
    "# NOVA Data Puller\n",
    "---\n",
    "\n",
    "*Before starting make sure you install the requirements.txt file*  \n",
    "\n",
    "---\n",
    "## How to use\n",
    "- Run the jupyter notebook and the interface will appear  \n",
    "- If Connection is successful fill in your Experiment ID. Your Experiment ID should be part of the name as your Sample ID on the machine  \n",
    "- Click search when you filled in Experiment ID and a csv file with the data should be generated in the same path as this project that you can use later"
   ]
  },
  {
   "cell_type": "code",
   "execution_count": null,
   "metadata": {},
   "outputs": [],
   "source": [
    "import ipywidgets as widgets\n",
    "import pandas as pd\n",
    "from functions import puller, config\n",
    "import os\n",
    "\n",
    "def on_search_click(b):\n",
    "    with output2:\n",
    "        searched_data = data[data['Sample ID'].str.contains(experiment_id.value)]\n",
    "        searched_data.to_csv('Results.csv',index=False)\n",
    "\n",
    "        display(searched_data.head())\n",
    "        print('Data has been save to ' +os.getcwd()+'/Results.csv')\n",
    "\n",
    "output1 = widgets.Output()\n",
    "output2 = widgets.Output()\n",
    "output1.clear_output()\n",
    "output2.clear_output()\n",
    "try:\n",
    "    data = puller.novaPuller(ip_address=config.ip_address,username=config.username,password=config.password)\n",
    "    with output1:\n",
    "        print('Connecion Successful')\n",
    "except:\n",
    "    raise Exception('Connection Error')\n",
    "\n",
    "style = {'description_width': 'initial'}\n",
    "experiment_id = widgets.Text(description='Experiment ID: ',style=style)\n",
    "search_button = widgets.Button(description='Search')\n",
    "search_button.on_click(on_search_click)\n",
    "\n",
    "vertical = widgets.VBox([output1,experiment_id,search_button,output2])\n",
    "widgets.HBox([vertical])"
   ]
  }
 ],
 "metadata": {
  "kernelspec": {
   "display_name": "Python 3",
   "language": "python",
   "name": "python3"
  },
  "language_info": {
   "codemirror_mode": {
    "name": "ipython",
    "version": 3
   },
   "file_extension": ".py",
   "mimetype": "text/x-python",
   "name": "python",
   "nbconvert_exporter": "python",
   "pygments_lexer": "ipython3",
   "version": "3.9.13"
  },
  "orig_nbformat": 4
 },
 "nbformat": 4,
 "nbformat_minor": 2
}
